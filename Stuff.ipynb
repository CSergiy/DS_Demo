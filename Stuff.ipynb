{
 "cells": [
  {
   "cell_type": "markdown",
   "id": "c6cc44ae-95c3-4b1c-888e-9db4d60d3dac",
   "metadata": {},
   "source": [
    "# Basic Imports"
   ]
  },
  {
   "cell_type": "code",
   "execution_count": 1,
   "id": "2604f002-d8d1-419e-83d2-a41d9b614b80",
   "metadata": {},
   "outputs": [],
   "source": [
    "import pandas as pd\n",
    "import numpy as np\n",
    "\n",
    "# For charts\n",
    "import matplotlib.pyplot as plt\n",
    "import seaborn as sns"
   ]
  },
  {
   "cell_type": "markdown",
   "id": "d4f7222c-e1b3-49a2-a270-057db5f24de5",
   "metadata": {},
   "source": [
    "# Opening a file"
   ]
  },
  {
   "cell_type": "code",
   "execution_count": 2,
   "id": "64a13999-ee9d-493c-adfc-09f222cbbd5b",
   "metadata": {},
   "outputs": [],
   "source": [
    "file_path = 'marketing_data.csv'\n",
    "dict_path = 'marketing_data_dictionary.csv'\n",
    "\n",
    "# Import the dataset\n",
    "df = pd.read_csv(file_path)\n",
    "dict = pd.read_csv(dict_path)\n",
    "\n",
    "# Strip leading and trailing spaces from column names\n",
    "df.columns = df.columns.str.strip()"
   ]
  },
  {
   "cell_type": "markdown",
   "id": "2801f7f1-999d-4a92-9c52-78cae975ef05",
   "metadata": {},
   "source": [
    "# Some basic functionality"
   ]
  },
  {
   "cell_type": "markdown",
   "id": "7cbabe15-7202-43f9-8f89-9ce440b31db6",
   "metadata": {},
   "source": [
    "This is all to look at your stuff, get a base understanding\n",
    "\n",
    "`df`\n",
    "\n",
    "`df['col name']` , `df['col name', 'col2 name']`\n",
    "`df.iloc[x:y:z]` x = start, y = end , z = every zth row (x+z+z+z+... until (x+z)>y ) \n",
    "\n",
    "`df.head()`\n",
    "\n",
    "`df.tail()`\n",
    "\n",
    "`df.shape`\n",
    "\n",
    "`df.info()`\n",
    "\n",
    "`df.describe()`\n",
    "\n",
    "`df.isnull().sum())`       \n",
    "\n",
    "`df['Income'].isnull()` , `df[df['Income'].isnull()]`\n",
    "\n",
    "`df.drop(['col1', 'col2', 'col3'], axis = 1, inplace = True)`   # Dropping columns you dont want, inplace = true means it changes the df \n",
    "\n",
    "`a = df.drop(['col1', 'col2', 'col3'], axis = 1)`  # ^ This is the alternative, you make a new variable to hold the df without the columns"
   ]
  },
  {
   "cell_type": "code",
   "execution_count": null,
   "id": "c9391b43-e2c2-499e-b1db-0a2e1548dde0",
   "metadata": {},
   "outputs": [],
   "source": []
  },
  {
   "cell_type": "markdown",
   "id": "d8bcdb5f-d02c-4b45-9959-2cd825d44ee5",
   "metadata": {},
   "source": [
    "# Gotta fix missing values"
   ]
  },
  {
   "cell_type": "markdown",
   "id": "0284da80-0fdd-4bba-ae34-94c8f5e8d347",
   "metadata": {},
   "source": [
    "Drop rows with missing values\n",
    "`df.dropna(inplace=True)`\n",
    "\n",
    "Replace missing values in 'Income' with the mean of the column\n",
    "\n",
    "`df['Income'].fillna(df['Income'].mean(), inplace=True)`"
   ]
  },
  {
   "cell_type": "code",
   "execution_count": 3,
   "id": "820cad7e-f448-4bf2-83e4-c33cbe3d0860",
   "metadata": {},
   "outputs": [
    {
     "name": "stderr",
     "output_type": "stream",
     "text": [
      "C:\\Users\\sergi\\AppData\\Local\\Temp\\ipykernel_25096\\2923762628.py:1: FutureWarning: A value is trying to be set on a copy of a DataFrame or Series through chained assignment using an inplace method.\n",
      "The behavior will change in pandas 3.0. This inplace method will never work because the intermediate object on which we are setting values always behaves as a copy.\n",
      "\n",
      "For example, when doing 'df[col].method(value, inplace=True)', try using 'df.method({col: value}, inplace=True)' or df[col] = df[col].method(value) instead, to perform the operation inplace on the original object.\n",
      "\n",
      "\n",
      "  df['Income'].fillna(df['Income'].mean(), inplace=True)\n"
     ]
    }
   ],
   "source": [
    "df['Income'].fillna(df['Income'].mean(), inplace=True)"
   ]
  },
  {
   "cell_type": "markdown",
   "id": "1efb502d-faab-49a3-aa24-7ebb7928337d",
   "metadata": {},
   "source": [
    "# You'd want to split numericals & categoricals"
   ]
  },
  {
   "cell_type": "markdown",
   "id": "a436fcf2-13f6-4547-aae4-80a76c345602",
   "metadata": {},
   "source": [
    "Some stuff doesent work for both numericals & categoricals, so this is how u can split them"
   ]
  },
  {
   "cell_type": "code",
   "execution_count": 4,
   "id": "895d92ac-7a4f-4ad6-b653-55081604421a",
   "metadata": {},
   "outputs": [],
   "source": [
    "# Select numerical columns (integers and floats)\n",
    "numerical_df = df.select_dtypes(include=['int64', 'float64'])\n",
    "\n",
    "# Select categorical columns (object and potentially 'category' dtypes if you've converted any)\n",
    "categorical_df = df.select_dtypes(include=['object', 'category'])"
   ]
  },
  {
   "cell_type": "code",
   "execution_count": 5,
   "id": "c4f3394f-610c-4756-9c2d-5402c5c6cd70",
   "metadata": {},
   "outputs": [
    {
     "name": "stdout",
     "output_type": "stream",
     "text": [
      "<class 'pandas.core.frame.DataFrame'>\n",
      "RangeIndex: 2240 entries, 0 to 2239\n",
      "Data columns (total 24 columns):\n",
      " #   Column               Non-Null Count  Dtype  \n",
      "---  ------               --------------  -----  \n",
      " 0   ID                   2240 non-null   int64  \n",
      " 1   Year_Birth           2240 non-null   int64  \n",
      " 2   Income               2240 non-null   float64\n",
      " 3   Kidhome              2240 non-null   int64  \n",
      " 4   Teenhome             2240 non-null   int64  \n",
      " 5   Recency              2240 non-null   int64  \n",
      " 6   MntWines             2240 non-null   int64  \n",
      " 7   MntFruits            2240 non-null   int64  \n",
      " 8   MntMeatProducts      2240 non-null   int64  \n",
      " 9   MntFishProducts      2240 non-null   int64  \n",
      " 10  MntSweetProducts     2240 non-null   int64  \n",
      " 11  MntGoldProds         2240 non-null   int64  \n",
      " 12  NumDealsPurchases    2240 non-null   int64  \n",
      " 13  NumWebPurchases      2240 non-null   int64  \n",
      " 14  NumCatalogPurchases  2240 non-null   int64  \n",
      " 15  NumStorePurchases    2240 non-null   int64  \n",
      " 16  NumWebVisitsMonth    2240 non-null   int64  \n",
      " 17  AcceptedCmp3         2240 non-null   int64  \n",
      " 18  AcceptedCmp4         2240 non-null   int64  \n",
      " 19  AcceptedCmp5         2240 non-null   int64  \n",
      " 20  AcceptedCmp1         2240 non-null   int64  \n",
      " 21  AcceptedCmp2         2240 non-null   int64  \n",
      " 22  Response             2240 non-null   int64  \n",
      " 23  Complain             2240 non-null   int64  \n",
      "dtypes: float64(1), int64(23)\n",
      "memory usage: 420.1 KB\n"
     ]
    }
   ],
   "source": [
    "numerical_df.info()"
   ]
  },
  {
   "cell_type": "code",
   "execution_count": 6,
   "id": "11ee7188-fe3a-4303-8f5b-541fb5ad2632",
   "metadata": {},
   "outputs": [
    {
     "name": "stdout",
     "output_type": "stream",
     "text": [
      "<class 'pandas.core.frame.DataFrame'>\n",
      "RangeIndex: 2240 entries, 0 to 2239\n",
      "Data columns (total 4 columns):\n",
      " #   Column          Non-Null Count  Dtype \n",
      "---  ------          --------------  ----- \n",
      " 0   Education       2240 non-null   object\n",
      " 1   Marital_Status  2240 non-null   object\n",
      " 2   Dt_Customer     2240 non-null   object\n",
      " 3   Country         2240 non-null   object\n",
      "dtypes: object(4)\n",
      "memory usage: 70.1+ KB\n"
     ]
    }
   ],
   "source": [
    "categorical_df.info()"
   ]
  },
  {
   "cell_type": "markdown",
   "id": "2a083d98-2b9e-412f-b5db-dd1b3167514d",
   "metadata": {},
   "source": [
    "# Then can kinda do whatever"
   ]
  },
  {
   "cell_type": "code",
   "execution_count": 7,
   "id": "7f29bb1c-db90-4cd1-85b9-b2b4aa3babd9",
   "metadata": {},
   "outputs": [],
   "source": [
    "# Dropping a column:\n",
    "categorical_df = categorical_df.drop(columns='Dt_Customer')\n",
    "df = df.drop(columns='Dt_Customer')"
   ]
  },
  {
   "cell_type": "markdown",
   "id": "87548385-4955-4a2a-aec3-a91ce2c3f5fe",
   "metadata": {},
   "source": [
    "# Gonna create a few functions, can grab these for future use"
   ]
  },
  {
   "cell_type": "markdown",
   "id": "867a804e-d414-460c-8b67-bde3d71b49d9",
   "metadata": {},
   "source": [
    "Defining functions here, scroll down after all the functions in order to see some use."
   ]
  },
  {
   "cell_type": "code",
   "execution_count": 8,
   "id": "aa20e190-536a-411e-a26d-b6b208699fde",
   "metadata": {},
   "outputs": [],
   "source": [
    "def visualize_numerical(df):\n",
    "    for column in df.columns:\n",
    "        fig, ax = plt.subplots(1, 2, figsize=(14, 4))\n",
    "        \n",
    "        # Histogram\n",
    "        sns.histplot(df[column], bins=30, ax=ax[0], kde=True)\n",
    "        ax[0].set_title(f'Histogram of {column}')\n",
    "        \n",
    "        # Boxplot\n",
    "        sns.boxplot(x=df[column], ax=ax[1])\n",
    "        ax[1].set_title(f'Boxplot of {column}')\n",
    "        \n",
    "        plt.tight_layout()\n",
    "        plt.show()"
   ]
  },
  {
   "cell_type": "code",
   "execution_count": 9,
   "id": "4897900f-8d13-4d60-8994-8081e5931678",
   "metadata": {},
   "outputs": [],
   "source": [
    "def visualize_categorical(df):\n",
    "    for column in df.columns:\n",
    "        plt.figure(figsize=(10, 4))\n",
    "        \n",
    "        # Bar chart\n",
    "        sns.countplot(y=df[column], order = df[column].value_counts().index)\n",
    "        plt.title(f'Distribution of {column}')\n",
    "        plt.tight_layout()\n",
    "        plt.show()"
   ]
  },
  {
   "cell_type": "code",
   "execution_count": 10,
   "id": "a6b4227f-bdf1-4de5-8e29-541c56afde58",
   "metadata": {},
   "outputs": [],
   "source": [
    "def plot_normalized_distribution_by_target(df, target_column, diff_threshold=0):\n",
    "    \"\"\"\n",
    "    Generate bar plots for each categorical column in the DataFrame, excluding the target column.\n",
    "    Plots are normalized with respect to the target column, highlighting distributions where\n",
    "    the difference exceeds a specified threshold.\n",
    "    \n",
    "    Parameters:\n",
    "    - df: DataFrame containing the data.\n",
    "    - target_column: The name of the target column to normalize against and exclude from plotting.\n",
    "    - diff_threshold: The percentage difference threshold for highlighting distributions.\n",
    "    \"\"\"\n",
    "    # Select categorical columns, excluding the target column\n",
    "    categorical_cols = df.select_dtypes(include=['object']).columns\n",
    "\n",
    "    for col in categorical_cols:\n",
    "        # Normalizing counts\n",
    "        x, y = col, target_column\n",
    "        df_normalized = df.groupby(x)[y].value_counts(normalize=True).mul(100).rename('percent').reset_index()\n",
    "\n",
    "        # Assuming binary target column with numeric values, convert them to str for visualization\n",
    "        df_normalized[y] = df_normalized[y].astype(str)\n",
    "        \n",
    "        # Plotting\n",
    "        plt.figure(figsize=(10,4))\n",
    "        p = sns.barplot(x=x, y='percent', hue=y, data=df_normalized)\n",
    "        \n",
    "        # Add labels to the plot\n",
    "        for rect in p.patches:\n",
    "            height = rect.get_height()\n",
    "            p.text(rect.get_x() + rect.get_width() / 2., height, f'{round(height,2)}%', \n",
    "                    ha='center', va='bottom')\n",
    "\n",
    "        plt.title(f'Normalized Distribution of {col} by {target_column}')\n",
    "        plt.xticks(rotation=90)\n",
    "        plt.show()"
   ]
  },
  {
   "cell_type": "code",
   "execution_count": 11,
   "id": "ebafc36f-b44d-4967-870b-07a756154d3e",
   "metadata": {},
   "outputs": [],
   "source": [
    "def plot_correlation_heatmap(df):\n",
    "    \"\"\"\n",
    "    Generates a heatmap visualizing the correlation matrix of numerical columns in the DataFrame.\n",
    "\n",
    "    Parameters:\n",
    "    - df: DataFrame containing the data.\n",
    "    \"\"\"\n",
    "    # Select numerical columns\n",
    "    numerical_cols = df.select_dtypes(include=['int64', 'float64']).columns\n",
    "    \n",
    "    # Calculate correlation matrix\n",
    "    corr_matrix = df[numerical_cols].corr()\n",
    "    \n",
    "    # Plot heatmap\n",
    "    plt.figure(figsize=(12,10))\n",
    "    sns.heatmap(corr_matrix, annot=True, cmap='coolwarm', fmt=\".2f\")\n",
    "    plt.title('Correlation Heatmap')\n",
    "    plt.show()\n"
   ]
  },
  {
   "cell_type": "markdown",
   "id": "43781d13-0954-4085-a97f-d93abbfe33a5",
   "metadata": {},
   "source": [
    "# Now lets see the functions above"
   ]
  },
  {
   "cell_type": "code",
   "execution_count": 12,
   "id": "5e00ee78-d6f1-404a-a0a4-9ddaea84a0b6",
   "metadata": {},
   "outputs": [],
   "source": [
    "#visualize_numerical(numerical_df)\n",
    "\n",
    "#visualize_categorical(categorical_df)\n",
    "\n",
    "\n",
    "#plot_normalized_distribution_by_target(df, 'Response')"
   ]
  },
  {
   "cell_type": "code",
   "execution_count": 13,
   "id": "299996e1-7104-4aa7-8aee-018a9dff900c",
   "metadata": {},
   "outputs": [],
   "source": [
    "#plot_correlation_heatmap(df)\n",
    "#sns.clustermap(numerical_df.corr(), annot=True, cmap='coolwarm', figsize=(15,15))"
   ]
  },
  {
   "cell_type": "markdown",
   "id": "65fbb1d9-8ab3-4042-b476-46d5ea2db20b",
   "metadata": {},
   "source": [
    "# Some machine learning related stuff "
   ]
  },
  {
   "cell_type": "markdown",
   "id": "924fe2cb-a0a6-4924-819d-c515793c6b72",
   "metadata": {},
   "source": [
    "sklearn imports are more case-specific, so I'm pairing them with the functions where I'm using them."
   ]
  },
  {
   "cell_type": "markdown",
   "id": "cf8cceaf-7dd0-4976-8534-528e8cad1ef1",
   "metadata": {},
   "source": [
    "## Once again, making functions to grab/use"
   ]
  },
  {
   "cell_type": "code",
   "execution_count": 14,
   "id": "4594c4f7-1ac0-49e5-847d-072b32fc211d",
   "metadata": {},
   "outputs": [],
   "source": [
    "from sklearn.model_selection import train_test_split\n",
    "from sklearn.preprocessing import StandardScaler\n",
    "from sklearn.linear_model import LogisticRegression\n",
    "\n",
    "def create_basic_logistic_regression_auto_features(df, target_feature, test_size=0.2, random_state=0, max_iter=500):\n",
    "    \"\"\"\n",
    "    Creates a logistic regression model based on the provided DataFrame and target feature.\n",
    "    Automatically selects predictive features as all columns except the target.\n",
    "    Splits the data, scales numeric features, and fits the logistic regression model.\n",
    "    \n",
    "    Parameters:\n",
    "    - df: DataFrame containing the data.\n",
    "    - target_feature: Name of the target feature column.\n",
    "    - test_size: Proportion of the dataset to include in the test split.\n",
    "    - random_state: Seed used by the random number generator for reproducible output.\n",
    "    - max_iter: Maximum number of iterations taken for the solvers to converge.\n",
    "    \n",
    "    Returns:\n",
    "    - model: Trained logistic regression model.\n",
    "    - X_train, X_test, y_train, y_test: Training and testing datasets.\n",
    "    \"\"\"\n",
    "    # Automatically define predictive features as all columns except the target feature\n",
    "    predictive_features = [col for col in df.columns if col != target_feature]\n",
    "    \n",
    "    # Divide data into features and target\n",
    "    X = df[predictive_features]\n",
    "    y = df[target_feature]\n",
    "    \n",
    "    # Divide data into training and test sets\n",
    "    X_train, X_test, y_train, y_test = train_test_split(X, y, test_size=test_size, random_state=random_state)\n",
    "    \n",
    "    # Select only numeric columns for scaling\n",
    "    numeric_cols = X_train.select_dtypes(include=[np.number]).columns\n",
    "    \n",
    "    # Initialize and fit the StandardScaler on numeric columns\n",
    "    scaler = StandardScaler()\n",
    "    X_train[numeric_cols] = scaler.fit_transform(X_train[numeric_cols])\n",
    "    X_test[numeric_cols] = scaler.transform(X_test[numeric_cols])\n",
    "    \n",
    "    # Initialize and fit the logistic regression model on scaled numeric features\n",
    "    model = LogisticRegression(max_iter=max_iter)\n",
    "    model.fit(X_train[numeric_cols], y_train)\n",
    "    \n",
    "    return model, X_train, X_test, y_train, y_test"
   ]
  },
  {
   "cell_type": "code",
   "execution_count": 15,
   "id": "43b1cd9c-6486-407b-bee4-f23834072c6d",
   "metadata": {},
   "outputs": [],
   "source": [
    "from sklearn.metrics import confusion_matrix\n",
    "\n",
    "def plot_confusion_matrix(model, X_test, y_test):\n",
    "    \"\"\"\n",
    "    Generates and plots a confusion matrix for the given model and test data.\n",
    "    \n",
    "    Parameters:\n",
    "    - model: The trained machine learning model.\n",
    "    - X_test: The test features.\n",
    "    - y_test: The true labels for the test data.\n",
    "    \"\"\"\n",
    "    # Predict classes using the model\n",
    "    y_pred = model.predict(X_test)\n",
    "    \n",
    "    # Compute the confusion matrix\n",
    "    cm = confusion_matrix(y_test, y_pred)\n",
    "    \n",
    "    # Plot the confusion matrix\n",
    "    plt.figure(figsize=(6, 6))\n",
    "    sns.heatmap(cm, annot=True, fmt=\"d\", cmap=\"Blues\", square=True, cbar=False)\n",
    "    plt.xlabel('Predicted label')\n",
    "    plt.ylabel('True label')\n",
    "    plt.title('Confusion Matrix')\n",
    "    plt.show()"
   ]
  },
  {
   "cell_type": "code",
   "execution_count": 16,
   "id": "51c8bf1d-4b04-43da-85f7-658607627420",
   "metadata": {},
   "outputs": [],
   "source": [
    "def plot_logistic_regression_feature_importance(model, feature_names, top_n=30):\n",
    "    \"\"\"\n",
    "    Plots the top N feature importances for a trained logistic regression model.\n",
    "    \n",
    "    Parameters:\n",
    "    - model: The trained logistic regression model.\n",
    "    - feature_names: The names of the features used to train the model.\n",
    "    - top_n: The number of top features to display.\n",
    "    \"\"\"\n",
    "    # Get importance coefficients from the model\n",
    "    importance = model.coef_[0]\n",
    "\n",
    "    # Create a DataFrame of features and their importance\n",
    "    feature_importance = pd.DataFrame({'Feature': feature_names, 'Importance': importance})\n",
    "\n",
    "    # Take absolute value of coefficients for ranking\n",
    "    feature_importance['abs_importance'] = feature_importance['Importance'].abs()\n",
    "\n",
    "    # Sort by absolute importance and select top N features\n",
    "    top_features = feature_importance.sort_values('abs_importance', ascending=False).iloc[:top_n]\n",
    "\n",
    "    # Sort the top_features DataFrame in descending order by Importance for the plot\n",
    "    top_features = top_features.sort_values('Importance', ascending=False)\n",
    "\n",
    "    # Color based on positive or negative coefficient\n",
    "    colors = ['green' if x > 0 else 'red' for x in top_features['Importance']]\n",
    "\n",
    "    # Plot feature importance\n",
    "    plt.figure(figsize=(10, 6))\n",
    "    plt.bar(top_features['Feature'], top_features['Importance'], color=colors)\n",
    "    plt.xticks(rotation=90)  # Changed to 90 for better label readability\n",
    "    plt.title(\"Top {} Feature Importance\".format(top_n))\n",
    "    plt.ylabel(\"Coefficient\")\n",
    "\n",
    "    # Find the position of the first negative coefficient and draw a line\n",
    "    first_negative = np.where(top_features['Importance']<0)[0]\n",
    "    if len(first_negative) > 0:\n",
    "        plt.axvline(x=first_negative[0]-0.5, color='black', linestyle='--')\n",
    "\n",
    "    plt.show()"
   ]
  },
  {
   "cell_type": "markdown",
   "id": "245839fd-b8d7-432e-afb3-30230550cd45",
   "metadata": {},
   "source": [
    "## Examples of the ML functions above"
   ]
  },
  {
   "cell_type": "code",
   "execution_count": 20,
   "id": "c49881e7-1fa6-436f-ab90-694372a80f91",
   "metadata": {},
   "outputs": [
    {
     "data": {
      "image/png": "[encoded data removed]",
      "text/plain": [
       "<Figure size 1000x600 with 1 Axes>"
      ]
     },
     "metadata": {},
     "output_type": "display_data"
    }
   ],
   "source": [
    "model, X_train, X_test, y_train, y_test = create_basic_logistic_regression_auto_features(df=numerical_df, target_feature='Response') # makes logreg model\n",
    "\n",
    "#plot_confusion_matrix(model, X_test, y_test)              #shows model predict to real target\n",
    "#print(classification_report(y_test, y_pred))              #More stats for above\n",
    "\n",
    "plot_logistic_regression_feature_importance(model, X_train.columns, top_n=25)                                  #shows n features w/ highest"
   ]
  },
  {
   "cell_type": "code",
   "execution_count": null,
   "id": "0a6b36e8-c050-48e6-b951-6b2574e7962b",
   "metadata": {},
   "outputs": [],
   "source": [
    "def plot_vif_for_dataframe(df, target_feature, threshold=10):\n",
    "    \"\"\"\n",
    "    Automatically selects predictive features as all columns except the target from the given DataFrame, \n",
    "    calculates VIF for each feature, and plots the features with VIF values below the specified threshold.\n",
    "    \n",
    "    Parameters:\n",
    "    - df: DataFrame containing the data and the target feature.\n",
    "    - target_feature: Name of the target feature column to exclude from VIF calculation.\n",
    "    - threshold: The VIF value threshold for filtering features to plot.\n",
    "    \"\"\"\n",
    "    # Exclude target feature and ensure only numeric features are considered\n",
    "    X = df[[col for col in df.columns if col != target_feature and df[col].dtype != 'object']]\n",
    "    \n",
    "    # Initialize the VIF DataFrame\n",
    "    vif_data = pd.DataFrame()\n",
    "    vif_data[\"feature\"] = X.columns\n",
    "    \n",
    "    # Calculate VIF for each feature\n",
    "    vif_data[\"VIF\"] = [variance_inflation_factor(X.values, i) for i in range(len(X.columns))]\n",
    "    \n",
    "    # Filter features based on the threshold\n",
    "    filtered_vif = vif_data[vif_data['VIF'] <= threshold]\n",
    "    \n",
    "    # Sort the filtered VIF data\n",
    "    final_vif = filtered_vif.sort_values('VIF').copy()\n",
    "    \n",
    "    # Assign colors based on VIF values\n",
    "    final_vif['color'] = ['green' if vif <= 2 else 'orange' if vif <= 5 else 'red' for vif in final_vif['VIF']]\n",
    "    \n",
    "    # Plot\n",
    "    plt.figure(figsize=(10, 6))\n",
    "    plt.bar(final_vif['feature'], final_vif['VIF'], color=final_vif['color'])\n",
    "    plt.xticks(rotation='vertical')\n",
    "    plt.title(f\"Features with VIF Value Below {threshold}\")\n",
    "    plt.ylabel(\"VIF\")\n",
    "    plt.show()\n"
   ]
  },
  {
   "cell_type": "code",
   "execution_count": null,
   "id": "d09d6e29-0615-4835-bd96-a6f292601c1c",
   "metadata": {},
   "outputs": [],
   "source": [
    "plot_vif_for_dataframe(df, target_feature='Response')"
   ]
  },
  {
   "cell_type": "markdown",
   "id": "000dce35-0b31-438c-a62c-bc9aef71347e",
   "metadata": {},
   "source": [
    "The bar chart above visualizes the VIF values of the selected features, color-coded for ease of interpretation:\n",
    "\n",
    "**Green**: VIF <= 2, these features exhibit low multicollinearity and are solid candidates for inclusion in our model.\n",
    "\n",
    "**Orange**: 2 < VIF <= 5, these features have moderate multicollinearity but can still be reasonably included in our model.\n",
    "\n",
    "**Red**: 5 < VIF <= 10, these features show high multicollinearity. Their inclusion in the model could be considered, however, they could also be excluded if constraints such as model complexity or overfitting become an issue."
   ]
  },
  {
   "cell_type": "code",
   "execution_count": null,
   "id": "e9818583-1ada-4405-aef8-53ed72c81795",
   "metadata": {},
   "outputs": [],
   "source": [
    "def train_model_with_vif_threshold(df, target_feature, vif_threshold=10, test_size=0.2, random_state=0, max_iter=500):\n",
    "    \"\"\"\n",
    "    Trains a logistic regression model on features below a specified VIF threshold.\n",
    "    \n",
    "    Parameters:\n",
    "    - df: DataFrame containing the data and the target feature.\n",
    "    - target_feature: Name of the target feature column.\n",
    "    - vif_threshold: VIF value threshold for filtering features.\n",
    "    - test_size: Proportion of the dataset to include in the test split.\n",
    "    - random_state: Seed used by the random number generator for reproducible output.\n",
    "    - max_iter: Maximum number of iterations taken for the solvers to converge.\n",
    "    \n",
    "    Returns:\n",
    "    - model: Trained logistic regression model.\n",
    "    - X_train, X_test, y_train, y_test: Training and testing datasets based on filtered features.\n",
    "    \"\"\"\n",
    "    # Exclude target feature and ensure only numeric features are considered\n",
    "    X = df.drop(target_feature, axis=1)\n",
    "    X = X.select_dtypes(include=[np.number])\n",
    "\n",
    "    # Calculate VIF for each feature and filter based on the threshold\n",
    "    vif_data = pd.DataFrame({\n",
    "        \"feature\": X.columns,\n",
    "        \"VIF\": [variance_inflation_factor(X.values, i) for i in range(X.shape[1])]\n",
    "    })\n",
    "    features_below_threshold = vif_data[vif_data[\"VIF\"] < vif_threshold][\"feature\"].tolist()\n",
    "    \n",
    "    # Prepare the filtered feature dataset and the target\n",
    "    X_filtered = df[features_below_threshold]\n",
    "    y = df[target_feature]\n",
    "\n",
    "    # Split the data into training and test sets\n",
    "    X_train, X_test, y_train, y_test = train_test_split(X_filtered, y, test_size=test_size, random_state=random_state)\n",
    "\n",
    "    # Scale the features\n",
    "    scaler = StandardScaler()\n",
    "    X_train = scaler.fit_transform(X_train)\n",
    "    X_test = scaler.transform(X_test)\n",
    "\n",
    "    # Initialize and fit the logistic regression model on the filtered and scaled features\n",
    "    model = LogisticRegression(max_iter=max_iter, random_state=random_state)\n",
    "    model.fit(X_train, y_train)\n",
    "    \n",
    "    return model, X_train, X_test, y_train, y_test"
   ]
  },
  {
   "cell_type": "code",
   "execution_count": null,
   "id": "317d810c-d1e8-418f-9bb2-c8bb7b338e26",
   "metadata": {},
   "outputs": [],
   "source": [
    "model_vif, X_train_vif, X_test_vif, y_train_vif, y_test_vif = train_model_with_vif_threshold(df=df, target_feature='Response', vif_threshold=5)"
   ]
  },
  {
   "cell_type": "code",
   "execution_count": null,
   "id": "c1398802-f039-4482-be18-b636f12fa059",
   "metadata": {},
   "outputs": [],
   "source": [
    "plot_confusion_matrix(model_vif, X_test_vif, y_test_vif)\n",
    "\n",
    "\n",
    "\n",
    "# Print classification report\n",
    "#print(classification_report(y_test, y_pred))\n",
    "\n",
    "#plot_logistic_regression_feature_importance(model, X_train.columns, top_n=30)"
   ]
  },
  {
   "cell_type": "code",
   "execution_count": null,
   "id": "741f3912-8391-42e7-9408-ed569df9e637",
   "metadata": {},
   "outputs": [],
   "source": [
    "# Bar plot of the target variable\n",
    "sns.countplot(x='Response', data=df)\n",
    "\n",
    "# Count the values of each class in the target variable\n",
    "df = y.value_counts()\n",
    "\n",
    "print(\"Churn value counts:\")\n",
    "print(churn_counts)"
   ]
  },
  {
   "cell_type": "code",
   "execution_count": null,
   "id": "d44e929d-9bad-4092-8a8f-4bd9e3076f4a",
   "metadata": {},
   "outputs": [],
   "source": []
  }
 ],
 "metadata": {
  "kernelspec": {
   "display_name": "Python 3 (ipykernel)",
   "language": "python",
   "name": "python3"
  },
  "language_info": {
   "codemirror_mode": {
    "name": "ipython",
    "version": 3
   },
   "file_extension": ".py",
   "mimetype": "text/x-python",
   "name": "python",
   "nbconvert_exporter": "python",
   "pygments_lexer": "ipython3",
   "version": "3.11.7"
  }
 },
 "nbformat": 4,
 "nbformat_minor": 5
}
